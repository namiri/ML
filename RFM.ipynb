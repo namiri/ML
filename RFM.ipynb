{
  "nbformat": 4,
  "nbformat_minor": 0,
  "metadata": {
    "colab": {
      "provenance": [],
      "mount_file_id": "1i4Al1wAb99QE-e_xZeFdLnIEpIOXWDxd",
      "authorship_tag": "ABX9TyOzboOoOMTeYotwF3oTGj45",
      "include_colab_link": true
    },
    "kernelspec": {
      "name": "python3",
      "display_name": "Python 3"
    },
    "language_info": {
      "name": "python"
    }
  },
  "cells": [
    {
      "cell_type": "markdown",
      "metadata": {
        "id": "view-in-github",
        "colab_type": "text"
      },
      "source": [
        "<a href=\"https://colab.research.google.com/github/namiri/ML/blob/main/RFM.ipynb\" target=\"_parent\"><img src=\"https://colab.research.google.com/assets/colab-badge.svg\" alt=\"Open In Colab\"/></a>"
      ]
    },
    {
      "cell_type": "code",
      "execution_count": 26,
      "metadata": {
        "id": "TcUpPl8POWx4",
        "colab": {
          "base_uri": "https://localhost:8080/"
        },
        "outputId": "927d2102-0e0d-488f-9a0d-45654f6afa81"
      },
      "outputs": [
        {
          "output_type": "stream",
          "name": "stdout",
          "text": [
            "  InvoiceNo StockCode                          Description  Quantity  \\\n",
            "0    536365    85123A   WHITE HANGING HEART T-LIGHT HOLDER       6.0   \n",
            "1    536365     71053                  WHITE METAL LANTERN       6.0   \n",
            "2    536365    84406B       CREAM CUPID HEARTS COAT HANGER       8.0   \n",
            "3    536365    84029G  KNITTED UNION FLAG HOT WATER BOTTLE       6.0   \n",
            "4    536365    84029E       RED WOOLLY HOTTIE WHITE HEART.       6.0   \n",
            "\n",
            "          InvoiceDate  UnitPrice  CustomerID         Country  \n",
            "0 2010-12-01 08:26:00       2.55     17850.0  United Kingdom  \n",
            "1 2010-12-01 08:26:00       3.39     17850.0  United Kingdom  \n",
            "2 2010-12-01 08:26:00       2.75     17850.0  United Kingdom  \n",
            "3 2010-12-01 08:26:00       3.39     17850.0  United Kingdom  \n",
            "4 2010-12-01 08:26:00       3.39     17850.0  United Kingdom  \n"
          ]
        }
      ],
      "source": [
        "import pandas as pd\n",
        "import datetime as dt\n",
        "df = pd.read_csv('/content/drive/MyDrive/RFM/Online-Retail.csv')  # Replace with your file path\n",
        "\n",
        "# print(df.columns)\n",
        "# Convert InvoiceDate to datetime\n",
        "df['InvoiceDate'] = pd.to_datetime(df['InvoiceDate'])\n",
        "df = df.dropna(subset=['CustomerID', 'UnitPrice'])\n",
        "\n",
        "print(df.head())\n",
        "\n",
        "\n"
      ]
    },
    {
      "cell_type": "code",
      "source": [
        "# Calculate RFM metrics\n",
        "max_date = df['InvoiceDate'].max()\n",
        "df['Recency'] = (max_date - df['InvoiceDate']).dt.days\n",
        "df['Frequency'] = df.groupby('CustomerID')['InvoiceNo'].transform('count')\n",
        "df['Monetary'] = df.groupby('CustomerID')['UnitPrice'].transform('sum')\n",
        "\n",
        "# Segment customers based on RFM scores\n",
        "df['R_Quartile'] = pd.qcut(df['Recency'], q=4, labels=[4,3,2,1])\n",
        "df['F_Quartile'] = pd.qcut(df['Frequency'], q=4, labels=[1,2,3,4])\n",
        "df['M_Quartile'] = pd.qcut(df['Monetary'], q=4, labels=[1,2,3,4])\n",
        "\n",
        "df['RFM_Segment'] = df['R_Quartile'].astype(str) + df['F_Quartile'].astype(str) + df['M_Quartile'].astype(str)\n",
        "\n",
        "# print('RFM Segmentation Complete!')\n",
        "print(df['RFM_Segment'] )\n"
      ],
      "metadata": {
        "id": "MYHBaaeXjSuF",
        "colab": {
          "base_uri": "https://localhost:8080/"
        },
        "outputId": "6711d1b9-86e1-4d3f-ecb9-dcda6d4a3a9c"
      },
      "execution_count": 31,
      "outputs": [
        {
          "output_type": "stream",
          "name": "stdout",
          "text": [
            "0         144\n",
            "1         144\n",
            "2         144\n",
            "3         144\n",
            "4         144\n",
            "         ... \n",
            "125292    432\n",
            "125293    432\n",
            "125294    432\n",
            "125295    432\n",
            "125296    432\n",
            "Name: RFM_Segment, Length: 84465, dtype: object\n"
          ]
        }
      ]
    },
    {
      "cell_type": "code",
      "source": [
        "# Analyze the distribution of customers across RFM segments again\n",
        "rfm_segment_distribution = df['RFM_Segment'].value_counts().reset_index()\n",
        "rfm_segment_distribution.columns = ['RFM_Segment', 'CustomerCount']\n",
        "\n",
        "# Display the RFM segment distribution\n",
        "print(rfm_segment_distribution.head())"
      ],
      "metadata": {
        "colab": {
          "base_uri": "https://localhost:8080/"
        },
        "id": "YlpKcI6UVF_S",
        "outputId": "a2a4ec2e-5625-43f6-8eaf-8b86a9c9176d"
      },
      "execution_count": 34,
      "outputs": [
        {
          "output_type": "stream",
          "name": "stdout",
          "text": [
            "  RFM_Segment  CustomerCount\n",
            "0         244           5004\n",
            "1         311           4762\n",
            "2         411           4753\n",
            "3         344           4359\n",
            "4         144           4212\n"
          ]
        }
      ]
    }
  ]
}